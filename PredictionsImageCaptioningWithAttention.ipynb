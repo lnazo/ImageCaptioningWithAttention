{
 "cells": [
  {
   "cell_type": "markdown",
   "metadata": {},
   "source": [
    "# Image Captioning with Attention Prediction"
   ]
  },
  {
   "cell_type": "code",
   "execution_count": 2,
   "metadata": {},
   "outputs": [],
   "source": [
    "%matplotlib inline\n",
    "%reload_ext autoreload\n",
    "%autoreload 2"
   ]
  },
  {
   "cell_type": "code",
   "execution_count": 3,
   "metadata": {},
   "outputs": [],
   "source": [
    "import tensorflow as tf\n",
    "tf.enable_eager_execution()\n",
    "\n",
    "# from tqdm import tqdm\n",
    "import matplotlib.pyplot as plt\n",
    "\n",
    "from sklearn.model_selection import train_test_split\n",
    "# from sklearn.utils import shuffle\n",
    "\n",
    "# import re\n",
    "import numpy as np\n",
    "# import os\n",
    "# import time\n",
    "# import json\n",
    "# from glob import glob\n",
    "from PIL import Image\n",
    "# import pickle\n",
    "from DataDownloader.mscocodownloader import MSCocoDownloader\n",
    "from Models.inceptionmodel import InceptionModel\n",
    "from Utils.visualiser import Visualiser\n",
    "from DatasetGeneration.datasetgeneratornolabels import DatasetGeneratorNoLabels\n",
    "from DatasetGeneration.datasetgenerator import DatasetGenerator\n",
    "from Models.attentionmodel import AttentionModel\n",
    "from Models.Helpers.tokenisations import Tokenisations"
   ]
  },
  {
   "cell_type": "code",
   "execution_count": 10,
   "metadata": {},
   "outputs": [],
   "source": [
    "BATCH_SIZE = 128\n",
    "BUFFER_SIZE = 1000\n",
    "embedding_dim = 256\n",
    "units = 512\n",
    "\n",
    "attention_features_shape = 64"
   ]
  },
  {
   "cell_type": "code",
   "execution_count": 9,
   "metadata": {},
   "outputs": [],
   "source": [
    "inmodel = InceptionModel()\n",
    "tokenisations = Tokenisations(True)\n",
    "vis = Visualiser()\n",
    "attentionModel = AttentionModel(tokenisations, embedding_dim, units, len(tokenisations.tokenizer.word_index), BATCH_SIZE, attention_features_shape, inmodel.image_features_extract_model)\n",
    "attentionModel.load_checkpoint()"
   ]
  },
  {
   "cell_type": "code",
   "execution_count": 5,
   "metadata": {},
   "outputs": [],
   "source": [
    "image_url = 'https://tensorflow.org/images/surf.jpg'\n",
    "image_extension = image_url[-4:]\n",
    "image_path = tf.keras.utils.get_file('image'+image_extension, \n",
    "                                     origin=image_url)\n",
    "\n",
    "result, attention_plot = attentionModel.evaluate(image_path)\n",
    "print ('Prediction Caption:', ' '.join(result))\n",
    "vis.plot_attention(image_path, result, attention_plot)\n",
    "# opening the image\n",
    "Image.open(image_path)"
   ]
  },
  {
   "cell_type": "code",
   "execution_count": 6,
   "metadata": {},
   "outputs": [],
   "source": []
  },
  {
   "cell_type": "code",
   "execution_count": 7,
   "metadata": {},
   "outputs": [],
   "source": []
  },
  {
   "cell_type": "code",
   "execution_count": null,
   "metadata": {},
   "outputs": [],
   "source": []
  },
  {
   "cell_type": "code",
   "execution_count": null,
   "metadata": {},
   "outputs": [],
   "source": []
  }
 ],
 "metadata": {
  "kernelspec": {
   "display_name": "Python 3",
   "language": "python",
   "name": "python3"
  },
  "language_info": {
   "codemirror_mode": {
    "name": "ipython",
    "version": 3
   },
   "file_extension": ".py",
   "mimetype": "text/x-python",
   "name": "python",
   "nbconvert_exporter": "python",
   "pygments_lexer": "ipython3",
   "version": "3.6.7"
  }
 },
 "nbformat": 4,
 "nbformat_minor": 2
}
